{
 "cells": [
  {
   "cell_type": "code",
   "execution_count": 1,
   "id": "0da102fc-5fd2-45e6-b14a-4d4871b23851",
   "metadata": {},
   "outputs": [
    {
     "name": "stdout",
     "output_type": "stream",
     "text": [
      "hey im printing here\n"
     ]
    }
   ],
   "source": [
    "print(\"hey im printing here\")"
   ]
  },
  {
   "cell_type": "code",
   "execution_count": 2,
   "id": "ec453c95-3a1d-433a-8062-a5b8b0b1c002",
   "metadata": {},
   "outputs": [
    {
     "data": {
      "text/plain": [
       "3"
      ]
     },
     "execution_count": 2,
     "metadata": {},
     "output_type": "execute_result"
    }
   ],
   "source": [
    "1 + 2"
   ]
  },
  {
   "cell_type": "code",
   "execution_count": 3,
   "id": "3ef1154e-16d4-4cc3-8dad-60eea31656d9",
   "metadata": {},
   "outputs": [
    {
     "data": {
      "text/plain": [
       "int"
      ]
     },
     "execution_count": 3,
     "metadata": {},
     "output_type": "execute_result"
    }
   ],
   "source": [
    "type(3)"
   ]
  },
  {
   "cell_type": "code",
   "execution_count": 4,
   "id": "2bd5184b-7f72-45b8-81e9-9918362ad9ad",
   "metadata": {},
   "outputs": [
    {
     "data": {
      "text/plain": [
       "str"
      ]
     },
     "execution_count": 4,
     "metadata": {},
     "output_type": "execute_result"
    }
   ],
   "source": [
    "type('3')"
   ]
  },
  {
   "cell_type": "code",
   "execution_count": 5,
   "id": "5bbca874-9644-4dd6-a230-1321c997e0f5",
   "metadata": {},
   "outputs": [
    {
     "data": {
      "text/plain": [
       "float"
      ]
     },
     "execution_count": 5,
     "metadata": {},
     "output_type": "execute_result"
    }
   ],
   "source": [
    "type(2.9)"
   ]
  },
  {
   "cell_type": "code",
   "execution_count": 6,
   "id": "2daf8bf7-20c6-48ba-95f9-58bff1832d88",
   "metadata": {},
   "outputs": [
    {
     "data": {
      "text/plain": [
       "bool"
      ]
     },
     "execution_count": 6,
     "metadata": {},
     "output_type": "execute_result"
    }
   ],
   "source": [
    "type(True)"
   ]
  },
  {
   "cell_type": "markdown",
   "id": "3daa55a6-b14e-47dd-911e-f7c962dfa530",
   "metadata": {},
   "source": [
    "# Variables"
   ]
  },
  {
   "cell_type": "raw",
   "id": "bf7811d5-f1ab-4d84-aa4c-bd170e6eda27",
   "metadata": {},
   "source": [
    "variable is  a conatiner to store the values or data "
   ]
  },
  {
   "cell_type": "raw",
   "id": "cb250326-7060-4622-b468-6cc584713858",
   "metadata": {},
   "source": [
    "variables are used to store data values. Python variables are dynamically typed, meaning you don’t need to declare their type explicitly — the type is determined based on the value assigned."
   ]
  },
  {
   "cell_type": "code",
   "execution_count": 9,
   "id": "ffb71d0b-dd0a-4670-a110-b2ba36ee1493",
   "metadata": {},
   "outputs": [],
   "source": [
    "a = 1"
   ]
  },
  {
   "cell_type": "code",
   "execution_count": 10,
   "id": "59242dbe-32d3-4898-a1fa-2b925c423c63",
   "metadata": {},
   "outputs": [
    {
     "name": "stdout",
     "output_type": "stream",
     "text": [
      "1\n"
     ]
    }
   ],
   "source": [
    "print(a)"
   ]
  },
  {
   "cell_type": "code",
   "execution_count": 11,
   "id": "309d7e43-7672-41fb-b44c-91cac4bf5798",
   "metadata": {},
   "outputs": [],
   "source": [
    "name = \"virat\""
   ]
  },
  {
   "cell_type": "code",
   "execution_count": 12,
   "id": "5810946a-a5fd-45ec-af41-92cf8fcd4882",
   "metadata": {},
   "outputs": [
    {
     "name": "stdout",
     "output_type": "stream",
     "text": [
      "virat\n"
     ]
    }
   ],
   "source": [
    "print(name)"
   ]
  },
  {
   "cell_type": "raw",
   "id": "66479536-0f31-47d9-93f4-0343467fa35c",
   "metadata": {},
   "source": [
    "Naming Rules:\n",
    "\n",
    "* Must start with a letter or an underscore (_).\n",
    "* Cannot start with a number.\n",
    "* Can contain letters, numbers, and underscores.\n",
    "* Cannot use reserved keywords as variable names (e.g., if, class, def).\n",
    "\n"
   ]
  },
  {
   "cell_type": "code",
   "execution_count": 13,
   "id": "033e3435-e18d-4caa-b4a2-b4e94486be49",
   "metadata": {},
   "outputs": [],
   "source": [
    "#Variables are case-sensitive.\n",
    "my_variable = 12\n",
    "MY_VARIABLE = 10\n"
   ]
  },
  {
   "cell_type": "code",
   "execution_count": 14,
   "id": "a0b230e7-1c06-4894-9a36-0c5501bd6b3b",
   "metadata": {},
   "outputs": [
    {
     "name": "stdout",
     "output_type": "stream",
     "text": [
      "12\n"
     ]
    }
   ],
   "source": [
    "print(my_variable)"
   ]
  },
  {
   "cell_type": "code",
   "execution_count": 15,
   "id": "ff1bb7c7-3e67-46bf-903d-c966ac94f8dc",
   "metadata": {},
   "outputs": [
    {
     "name": "stdout",
     "output_type": "stream",
     "text": [
      "10\n"
     ]
    }
   ],
   "source": [
    "print(MY_VARIABLE)"
   ]
  },
  {
   "cell_type": "code",
   "execution_count": 16,
   "id": "ec8154ab-1a4e-4205-9403-dbf5d1cd853a",
   "metadata": {},
   "outputs": [],
   "source": [
    "a = b = c  = \"virat\""
   ]
  },
  {
   "cell_type": "code",
   "execution_count": 17,
   "id": "2fc93ec6-326b-494d-8cf7-ba7724e1bb82",
   "metadata": {},
   "outputs": [
    {
     "name": "stdout",
     "output_type": "stream",
     "text": [
      "virat\n"
     ]
    }
   ],
   "source": [
    "print(a)"
   ]
  },
  {
   "cell_type": "code",
   "execution_count": 18,
   "id": "b5c4a0e1-7b38-4a88-bc03-2d21fad45dc2",
   "metadata": {},
   "outputs": [
    {
     "name": "stdout",
     "output_type": "stream",
     "text": [
      "virat\n"
     ]
    }
   ],
   "source": [
    "print(b)"
   ]
  },
  {
   "cell_type": "code",
   "execution_count": 19,
   "id": "4a47b542-bf3d-41bc-869b-80f5cf35d659",
   "metadata": {},
   "outputs": [
    {
     "name": "stdout",
     "output_type": "stream",
     "text": [
      "virat\n"
     ]
    }
   ],
   "source": [
    "print(c)"
   ]
  },
  {
   "cell_type": "code",
   "execution_count": 20,
   "id": "3a176548-c699-4b6a-8757-fd0e29f48202",
   "metadata": {},
   "outputs": [],
   "source": [
    "x,y,z = 10,\"virat\",\"king\""
   ]
  },
  {
   "cell_type": "code",
   "execution_count": 21,
   "id": "fa8f006f-0e79-42ad-8e4e-b8ec7c6c4cb2",
   "metadata": {},
   "outputs": [
    {
     "name": "stdout",
     "output_type": "stream",
     "text": [
      "10\n"
     ]
    }
   ],
   "source": [
    "print(x)"
   ]
  },
  {
   "cell_type": "code",
   "execution_count": 22,
   "id": "0443613a-a56d-4f05-957f-bc1725dc36cc",
   "metadata": {},
   "outputs": [
    {
     "name": "stdout",
     "output_type": "stream",
     "text": [
      "virat\n"
     ]
    }
   ],
   "source": [
    "print(y)"
   ]
  },
  {
   "cell_type": "code",
   "execution_count": 23,
   "id": "e9e2199f-a6dc-4f80-9834-01418688c8a8",
   "metadata": {},
   "outputs": [
    {
     "name": "stdout",
     "output_type": "stream",
     "text": [
      "king\n"
     ]
    }
   ],
   "source": [
    "print(z)"
   ]
  },
  {
   "cell_type": "code",
   "execution_count": 24,
   "id": "95273717-4cf3-41c1-bdfc-b8ae52b6c345",
   "metadata": {},
   "outputs": [
    {
     "ename": "SyntaxError",
     "evalue": "starred assignment target must be in a list or tuple (3538723190.py, line 1)",
     "output_type": "error",
     "traceback": [
      "\u001b[0;36m  Cell \u001b[0;32mIn[24], line 1\u001b[0;36m\u001b[0m\n\u001b[0;31m    *a = 7\u001b[0m\n\u001b[0m    ^\u001b[0m\n\u001b[0;31mSyntaxError\u001b[0m\u001b[0;31m:\u001b[0m starred assignment target must be in a list or tuple\n"
     ]
    }
   ],
   "source": [
    "*a = 7"
   ]
  },
  {
   "cell_type": "code",
   "execution_count": 25,
   "id": "9cc5a076-0411-47b5-a9fb-c3b20b8fc8ad",
   "metadata": {},
   "outputs": [
    {
     "ename": "SyntaxError",
     "evalue": "invalid decimal literal (2737361462.py, line 1)",
     "output_type": "error",
     "traceback": [
      "\u001b[0;36m  Cell \u001b[0;32mIn[25], line 1\u001b[0;36m\u001b[0m\n\u001b[0;31m    1name = \"virat\"\u001b[0m\n\u001b[0m    ^\u001b[0m\n\u001b[0;31mSyntaxError\u001b[0m\u001b[0;31m:\u001b[0m invalid decimal literal\n"
     ]
    }
   ],
   "source": [
    "1name = \"virat\""
   ]
  },
  {
   "cell_type": "code",
   "execution_count": 26,
   "id": "19c67c38-9185-4d96-a943-249b289e0bda",
   "metadata": {},
   "outputs": [],
   "source": [
    "_a= 23.1"
   ]
  },
  {
   "cell_type": "code",
   "execution_count": 27,
   "id": "a75babe0-abc4-4ffe-82ef-8e764e778692",
   "metadata": {},
   "outputs": [],
   "source": [
    "a = 24"
   ]
  },
  {
   "cell_type": "code",
   "execution_count": 28,
   "id": "9ce60810-6ceb-4805-bda3-9ad775423143",
   "metadata": {},
   "outputs": [
    {
     "data": {
      "text/plain": [
       "47.1"
      ]
     },
     "execution_count": 28,
     "metadata": {},
     "output_type": "execute_result"
    }
   ],
   "source": [
    "a + _a"
   ]
  },
  {
   "cell_type": "code",
   "execution_count": 29,
   "id": "77a54379-d16b-477f-b208-7e7206468008",
   "metadata": {},
   "outputs": [],
   "source": [
    "c = 2+3j"
   ]
  },
  {
   "cell_type": "code",
   "execution_count": 31,
   "id": "e9422d14-ccd0-419b-b839-46998a34f4c1",
   "metadata": {},
   "outputs": [
    {
     "data": {
      "text/plain": [
       "2.0"
      ]
     },
     "execution_count": 31,
     "metadata": {},
     "output_type": "execute_result"
    }
   ],
   "source": [
    "c.real"
   ]
  },
  {
   "cell_type": "code",
   "execution_count": 35,
   "id": "ce4abbe9-92a8-4bae-99a1-2cfc87f96df7",
   "metadata": {},
   "outputs": [
    {
     "data": {
      "text/plain": [
       "3.0"
      ]
     },
     "execution_count": 35,
     "metadata": {},
     "output_type": "execute_result"
    }
   ],
   "source": [
    "c.imag"
   ]
  },
  {
   "cell_type": "code",
   "execution_count": 37,
   "id": "a6f6137c-6ddb-48f0-bbe5-a9f7dacc1956",
   "metadata": {},
   "outputs": [],
   "source": [
    "c = \"virat\""
   ]
  },
  {
   "cell_type": "code",
   "execution_count": 38,
   "id": "7058a4c6-03fe-4392-ac65-13955ef5ca4c",
   "metadata": {},
   "outputs": [
    {
     "ename": "TypeError",
     "evalue": "can only concatenate str (not \"int\") to str",
     "output_type": "error",
     "traceback": [
      "\u001b[0;31m---------------------------------------------------------------------------\u001b[0m",
      "\u001b[0;31mTypeError\u001b[0m                                 Traceback (most recent call last)",
      "Cell \u001b[0;32mIn[38], line 1\u001b[0m\n\u001b[0;32m----> 1\u001b[0m \u001b[43mc\u001b[49m\u001b[43m \u001b[49m\u001b[38;5;241;43m+\u001b[39;49m\u001b[43m \u001b[49m\u001b[38;5;241;43m4\u001b[39;49m\n",
      "\u001b[0;31mTypeError\u001b[0m: can only concatenate str (not \"int\") to str"
     ]
    }
   ],
   "source": [
    "c + 4"
   ]
  },
  {
   "cell_type": "code",
   "execution_count": 39,
   "id": "78790000-123c-4c76-a2ed-f8d640e772eb",
   "metadata": {},
   "outputs": [
    {
     "data": {
      "text/plain": [
       "'virat4'"
      ]
     },
     "execution_count": 39,
     "metadata": {},
     "output_type": "execute_result"
    }
   ],
   "source": [
    "c + \"4\""
   ]
  },
  {
   "cell_type": "code",
   "execution_count": 40,
   "id": "37252289-6171-4ad3-9ecf-6eddd7b7822a",
   "metadata": {},
   "outputs": [
    {
     "data": {
      "text/plain": [
       "2"
      ]
     },
     "execution_count": 40,
     "metadata": {},
     "output_type": "execute_result"
    }
   ],
   "source": [
    "True + True "
   ]
  },
  {
   "cell_type": "raw",
   "id": "9d1b749b-c73b-49bb-b5a2-1f565e5db8c6",
   "metadata": {},
   "source": [
    "If you want to take an input from the user , we need to use the input() function "
   ]
  },
  {
   "cell_type": "code",
   "execution_count": 41,
   "id": "7c388fd7-1e9e-4874-80bd-18abfddb6788",
   "metadata": {},
   "outputs": [
    {
     "name": "stdin",
     "output_type": "stream",
     "text": [
      " hey my name is virat\n"
     ]
    },
    {
     "data": {
      "text/plain": [
       "'hey my name is virat'"
      ]
     },
     "execution_count": 41,
     "metadata": {},
     "output_type": "execute_result"
    }
   ],
   "source": [
    "input()"
   ]
  },
  {
   "cell_type": "code",
   "execution_count": 42,
   "id": "c98a2234-f1a5-46e6-a6e4-745f60b3273b",
   "metadata": {},
   "outputs": [
    {
     "name": "stdin",
     "output_type": "stream",
     "text": [
      " hey im holding my name in a variable \"virat\"\n"
     ]
    }
   ],
   "source": [
    "a = input()"
   ]
  },
  {
   "cell_type": "code",
   "execution_count": 43,
   "id": "6d6905a8-e10e-440c-b7d2-db9f01393007",
   "metadata": {},
   "outputs": [
    {
     "data": {
      "text/plain": [
       "'hey im holding my name in a variable \"virat\"'"
      ]
     },
     "execution_count": 43,
     "metadata": {},
     "output_type": "execute_result"
    }
   ],
   "source": [
    "a"
   ]
  },
  {
   "cell_type": "code",
   "execution_count": 45,
   "id": "c9dbb38f-0d83-47a9-8ce6-7c78fa8a6d87",
   "metadata": {},
   "outputs": [
    {
     "name": "stdin",
     "output_type": "stream",
     "text": [
      " 1\n"
     ]
    }
   ],
   "source": [
    "a = input()"
   ]
  },
  {
   "cell_type": "code",
   "execution_count": 47,
   "id": "2f279c25-98c4-4887-8d32-b45d9d851a2b",
   "metadata": {},
   "outputs": [
    {
     "data": {
      "text/plain": [
       "'1'"
      ]
     },
     "execution_count": 47,
     "metadata": {},
     "output_type": "execute_result"
    }
   ],
   "source": [
    "a"
   ]
  },
  {
   "cell_type": "raw",
   "id": "c650a762-ecde-4948-8ef7-baa4a69586a5",
   "metadata": {},
   "source": [
    "input() always converts eveyrthing into string by default "
   ]
  },
  {
   "cell_type": "code",
   "execution_count": 50,
   "id": "2492f462-c0bb-45ea-bdcc-01026b51a703",
   "metadata": {},
   "outputs": [
    {
     "name": "stdin",
     "output_type": "stream",
     "text": [
      " 1\n"
     ]
    }
   ],
   "source": [
    "a = int(input())"
   ]
  },
  {
   "cell_type": "code",
   "execution_count": 51,
   "id": "9a1c5c54-533b-4490-83b9-8cfbe83f8e54",
   "metadata": {},
   "outputs": [
    {
     "data": {
      "text/plain": [
       "1"
      ]
     },
     "execution_count": 51,
     "metadata": {},
     "output_type": "execute_result"
    }
   ],
   "source": [
    "a"
   ]
  },
  {
   "cell_type": "raw",
   "id": "cd78b92b-15d3-4afc-8783-6c375ae3d3b0",
   "metadata": {},
   "source": [
    "here we are tycasting explicintly  into integer"
   ]
  },
  {
   "cell_type": "code",
   "execution_count": null,
   "id": "88263f4d-0547-44e0-8931-9df43276cdcd",
   "metadata": {},
   "outputs": [],
   "source": []
  }
 ],
 "metadata": {
  "kernelspec": {
   "display_name": "Python 3 (ipykernel)",
   "language": "python",
   "name": "python3"
  },
  "language_info": {
   "codemirror_mode": {
    "name": "ipython",
    "version": 3
   },
   "file_extension": ".py",
   "mimetype": "text/x-python",
   "name": "python",
   "nbconvert_exporter": "python",
   "pygments_lexer": "ipython3",
   "version": "3.10.9"
  }
 },
 "nbformat": 4,
 "nbformat_minor": 5
}
